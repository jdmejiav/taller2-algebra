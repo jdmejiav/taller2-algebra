{
 "cells": [
  {
   "cell_type": "code",
   "execution_count": 56,
   "id": "a0d97b36",
   "metadata": {},
   "outputs": [
    {
     "name": "stdout",
     "output_type": "stream",
     "text": [
      "No tiene solución\n",
      "[0. 0. 1.]\n"
     ]
    }
   ],
   "source": [
    "import numpy as np\n",
    "l = np.array(\n",
    "    [[1, 0, -1],\n",
    "     [0, 1, -2],\n",
    "     [0, 0, 0]])\n",
    "\n",
    "\n",
    "b = np.array([5,4,1])\n",
    "\n",
    "x = np.zeros(len(b))\n",
    "\n",
    "for i in range(len(b) - 1, -1, -1):\n",
    "    x[i] = b[i]\n",
    "    for j in range(i + 1, len(b)):\n",
    "        x[i] -= l[i, j] * x[j]\n",
    "    if l[i, i] != 0:\n",
    "        x[i] /= l[i, i]\n",
    "    elif sum([l[i][j] == 0 for j in range(len(l[i]))]) == len(l[i]) and b[i] != 0:\n",
    "        print(\"No tiene solución\")\n",
    "        break\n",
    "    elif sum([l[i][j] == 0 for j in range(len(l[i]))]) == len(l[i]) and b[i] == 0:\n",
    "        print(\"Tiene infinitas soluciones \")\n",
    "        x[i] = 0\n",
    "\n",
    "print(x)"
   ]
  },
  {
   "cell_type": "code",
   "execution_count": 57,
   "id": "fd4f7691",
   "metadata": {},
   "outputs": [
    {
     "name": "stdout",
     "output_type": "stream",
     "text": [
      "[0. 0. 1.]\n"
     ]
    }
   ],
   "source": [
    "# Identifica las variables libres y completa la base del espacio nulo\n",
    "free_vars = []\n",
    "null_vector = []\n",
    "for i in range(len(l)):\n",
    "    if l[i, i] == 0:\n",
    "        free_vars.append(i)\n",
    "        null_vector = np.zeros(len(l))\n",
    "        null_vector[i] = 1\n",
    "        for j in range(i):\n",
    "            null_vector[j]\n",
    "        print(null_vector)\n"
   ]
  },
  {
   "cell_type": "code",
   "execution_count": 58,
   "id": "de6482e8",
   "metadata": {},
   "outputs": [
    {
     "data": {
      "text/plain": [
       "[2]"
      ]
     },
     "execution_count": 58,
     "metadata": {},
     "output_type": "execute_result"
    }
   ],
   "source": [
    "free_vars"
   ]
  },
  {
   "cell_type": "code",
   "execution_count": null,
   "id": "e9093423",
   "metadata": {},
   "outputs": [],
   "source": []
  }
 ],
 "metadata": {
  "kernelspec": {
   "display_name": "Python 3 (ipykernel)",
   "language": "python",
   "name": "python3"
  },
  "language_info": {
   "codemirror_mode": {
    "name": "ipython",
    "version": 3
   },
   "file_extension": ".py",
   "mimetype": "text/x-python",
   "name": "python",
   "nbconvert_exporter": "python",
   "pygments_lexer": "ipython3",
   "version": "3.11.5"
  }
 },
 "nbformat": 4,
 "nbformat_minor": 5
}
