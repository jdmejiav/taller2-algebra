{
 "cells": [
  {
   "cell_type": "raw",
   "id": "d4a4f694-203b-43f7-a0ab-8e5641b4aa25",
   "metadata": {},
   "source": [
    "Problema 1 del Taller2"
   ]
  },
  {
   "cell_type": "raw",
   "id": "f1a995c3-1ec0-4b44-a28f-ae35e13d6a91",
   "metadata": {},
   "source": [
    "Parte 1.\n",
    "Esta es la matriz inicial del problema a la cual vamos a aplicar operaciones fundamentales fila pa volverla una matriz triangular superior \n",
    " 2  4 5 | 220\n",
    " 6  9 8 | 490\n",
    "4.1 5 3 | 274\n",
    "\n",
    "•-3F1 + F2\n",
    "•-2.05F1 + F3\n",
    "\n",
    " 2   4     5  |  220\n",
    " 0  -3    -7  | -170\n",
    " 0 -3.2 -7.25 | -177\n",
    "\n",
    "•-1.0666666F2 + F3\n",
    "\n",
    " 2   4     5    |  220\n",
    " 0  -3    -7    | -170\n",
    " 0   0  0.21666 | 4.3333\n",
    "\n",
    "Ahora se realizaria sustitucion hacia atras\n",
    "\n",
    "C = 4.33333/0.2166666\n",
    "\n",
    "•C = 20\n",
    "\n",
    "-3B -7(20) = -170\n",
    "-3B -140 = -170\n",
    "-3B = -30\n",
    "\n",
    "•B = 10\n",
    "\n",
    "2A + 40 + 100 = 220\n",
    "2A = 80\n",
    "\n",
    "•A= 40\n"
   ]
  },
  {
   "cell_type": "raw",
   "id": "803ecf77-759d-4a83-beca-75eeafc4b904",
   "metadata": {},
   "source": [
    "Parte 2.\n",
    "\n",
    " 2  4 5 | 220\n",
    " 6  9 8 | 490\n",
    "4.2 5 3 | 274\n",
    "\n",
    "•-3F1 + F2\n",
    "•-2.1F1 + F3\n",
    "\n",
    " 2   4     5  |  220\n",
    " 0  -3    -7  | -170\n",
    " 0 -3.4  -7.5 | -188\n",
    "\n",
    "•-1.1333333F2 + F3\n",
    "\n",
    " 2   4     5    |  220\n",
    " 0  -3    -7    | -170\n",
    " 0   0  0.43333 | 4.6666\n",
    "\n",
    "Ahora se realizaria sustitucion hacia atras\n",
    "\n",
    "C = 4.66666/0.433333\n",
    "\n",
    "•C = 10.76\n",
    "\n",
    "-3B -7(10.76) = -170\n",
    "-3B -75.32 = -170\n",
    "-3B = -94.68\n",
    "\n",
    "•B = 31.56\n",
    "\n",
    "2A + 126.2 + 53.8 = 220\n",
    "2A = 40\n",
    "\n",
    "•A= 20\n",
    "\n",
    "\n",
    "El cambio es grande y puede ser que esta mal condicionada la matriz, por lo cual la condicion de esta debe ser un numero relativamente mayor que 1 \n",
    "\n",
    "Para calcular una cota superior en para el error relativo en la solución de un sistema cuando hay un cambio en los coeficientes de la matriz del sistema, primero se tiene que calcular el erro en la matriz que seria A1- A0 entonces"
   ]
  },
  {
   "cell_type": "code",
   "execution_count": 24,
   "id": "c72c0c1f-867c-4b8f-91c7-1934946a7290",
   "metadata": {},
   "outputs": [
    {
     "name": "stdout",
     "output_type": "stream",
     "text": [
      "Requirement already satisfied: numpy in c:\\users\\kayze\\appdata\\local\\programs\\python\\python39\\lib\\site-packages (1.23.5)\n",
      "Requirement already satisfied: spicy in c:\\users\\kayze\\appdata\\local\\programs\\python\\python39\\lib\\site-packages (0.16.0)\n",
      "Requirement already satisfied: scipy in c:\\users\\kayze\\appdata\\local\\programs\\python\\python39\\lib\\site-packages (from spicy) (1.11.2)\n",
      "Requirement already satisfied: numpy<1.28.0,>=1.21.6 in c:\\users\\kayze\\appdata\\local\\programs\\python\\python39\\lib\\site-packages (from scipy->spicy) (1.23.5)\n",
      "Requirement already satisfied: matplotlib in c:\\users\\kayze\\appdata\\local\\programs\\python\\python39\\lib\\site-packages (3.8.0)\n",
      "Requirement already satisfied: contourpy>=1.0.1 in c:\\users\\kayze\\appdata\\local\\programs\\python\\python39\\lib\\site-packages (from matplotlib) (1.1.1)\n",
      "Requirement already satisfied: cycler>=0.10 in c:\\users\\kayze\\appdata\\local\\programs\\python\\python39\\lib\\site-packages (from matplotlib) (0.12.1)\n",
      "Requirement already satisfied: fonttools>=4.22.0 in c:\\users\\kayze\\appdata\\local\\programs\\python\\python39\\lib\\site-packages (from matplotlib) (4.43.1)\n",
      "Requirement already satisfied: kiwisolver>=1.0.1 in c:\\users\\kayze\\appdata\\local\\programs\\python\\python39\\lib\\site-packages (from matplotlib) (1.4.5)\n",
      "Requirement already satisfied: numpy<2,>=1.21 in c:\\users\\kayze\\appdata\\local\\programs\\python\\python39\\lib\\site-packages (from matplotlib) (1.23.5)\n",
      "Requirement already satisfied: packaging>=20.0 in c:\\users\\kayze\\appdata\\local\\programs\\python\\python39\\lib\\site-packages (from matplotlib) (23.1)\n",
      "Requirement already satisfied: pillow>=6.2.0 in c:\\users\\kayze\\appdata\\local\\programs\\python\\python39\\lib\\site-packages (from matplotlib) (10.0.1)\n",
      "Requirement already satisfied: pyparsing>=2.3.1 in c:\\users\\kayze\\appdata\\local\\programs\\python\\python39\\lib\\site-packages (from matplotlib) (3.1.1)\n",
      "Requirement already satisfied: python-dateutil>=2.7 in c:\\users\\kayze\\appdata\\local\\programs\\python\\python39\\lib\\site-packages (from matplotlib) (2.8.2)\n",
      "Requirement already satisfied: importlib-resources>=3.2.0 in c:\\users\\kayze\\appdata\\local\\programs\\python\\python39\\lib\\site-packages (from matplotlib) (6.1.0)\n",
      "Requirement already satisfied: zipp>=3.1.0 in c:\\users\\kayze\\appdata\\local\\programs\\python\\python39\\lib\\site-packages (from importlib-resources>=3.2.0->matplotlib) (3.16.2)\n",
      "Requirement already satisfied: six>=1.5 in c:\\users\\kayze\\appdata\\local\\programs\\python\\python39\\lib\\site-packages (from python-dateutil>=2.7->matplotlib) (1.16.0)\n"
     ]
    }
   ],
   "source": [
    "!pip install numpy\n",
    "!pip install spicy\n",
    "!pip install matplotlib"
   ]
  },
  {
   "cell_type": "code",
   "execution_count": 3,
   "id": "4e6522cd-9d24-44e5-ac2e-c3a6186de1d6",
   "metadata": {},
   "outputs": [
    {
     "data": {
      "text/plain": [
       "array([[0. , 0. , 0. ],\n",
       "       [0. , 0. , 0. ],\n",
       "       [0.1, 0. , 0. ]])"
      ]
     },
     "execution_count": 3,
     "metadata": {},
     "output_type": "execute_result"
    }
   ],
   "source": [
    "import numpy as np\n",
    "\n",
    "A0 = np.array([[2, 4, 5],\n",
    "               [6, 9, 8],\n",
    "               [4.1, 5, 3]])\n",
    "\n",
    "A1 = np.array([[2, 4, 5],\n",
    "               [6, 9, 8],\n",
    "               [4.2, 5, 3]])\n",
    "\n",
    "E= A1-A0\n",
    "E"
   ]
  },
  {
   "cell_type": "raw",
   "id": "c3b7d4af-50dd-4cc2-8669-82f56082b558",
   "metadata": {},
   "source": [
    "Ahora seria hallar el error relativo "
   ]
  },
  {
   "cell_type": "code",
   "execution_count": 4,
   "id": "cd7840bf-9a40-4d63-9158-aa5b304f54b5",
   "metadata": {},
   "outputs": [
    {
     "data": {
      "text/plain": [
       "0.004347826086956545"
      ]
     },
     "execution_count": 4,
     "metadata": {},
     "output_type": "execute_result"
    }
   ],
   "source": [
    "norma_E = np.linalg.norm(E, ord=np.inf)\n",
    "norma_A0 = np.linalg.norm(A0, ord=np.inf)\n",
    "\n",
    "ErrorRelativo = norma_E/norma_A0\n",
    "ErrorRelativo"
   ]
  },
  {
   "cell_type": "raw",
   "id": "0776f359-e391-405f-bcad-41b56c578797",
   "metadata": {},
   "source": [
    "la cota seria la condicion por el error relativo"
   ]
  },
  {
   "cell_type": "code",
   "execution_count": 10,
   "id": "9dc1f836-8567-4978-b535-606e64de5658",
   "metadata": {},
   "outputs": [
    {
     "name": "stdout",
     "output_type": "stream",
     "text": [
      "Condicion\n"
     ]
    },
    {
     "data": {
      "text/plain": [
       "766.0769230769237"
      ]
     },
     "execution_count": 10,
     "metadata": {},
     "output_type": "execute_result"
    }
   ],
   "source": [
    "condicion =  np.linalg.norm(A0, ord=np.inf) *  np.linalg.norm((np.linalg.inv(A0)), ord=np.inf) \n",
    "print(\"Condicion\")\n",
    "condicion"
   ]
  },
  {
   "cell_type": "code",
   "execution_count": 13,
   "id": "82c91458-66ed-4e75-b1dc-2eb1d7c17be9",
   "metadata": {},
   "outputs": [
    {
     "name": "stdout",
     "output_type": "stream",
     "text": [
      "Cota superior \n"
     ]
    },
    {
     "data": {
      "text/plain": [
       "3.3307692307692514"
      ]
     },
     "execution_count": 13,
     "metadata": {},
     "output_type": "execute_result"
    }
   ],
   "source": [
    "cota = condicion * ErrorRelativo\n",
    "print(\"Cota superior \")\n",
    "cota"
   ]
  },
  {
   "cell_type": "raw",
   "id": "0001685a-027e-421e-bfab-4372b54d5f55",
   "metadata": {},
   "source": [
    "para calcular la cota superior para el error relativo en el valor de la hora en los procesadores, primero se tiene que calcular el error en dicahs horas"
   ]
  },
  {
   "cell_type": "code",
   "execution_count": 15,
   "id": "7e074d8c-bd1f-4779-aaf8-8f05855fe940",
   "metadata": {},
   "outputs": [
    {
     "data": {
      "text/plain": [
       "array([[-20.  ],\n",
       "       [ 21.56],\n",
       "       [ -9.24]])"
      ]
     },
     "execution_count": 15,
     "metadata": {},
     "output_type": "execute_result"
    }
   ],
   "source": [
    "X0 = np.array([[40],\n",
    "               [10],\n",
    "               [20]])\n",
    "\n",
    "X1 = np.array([[20],\n",
    "               [31.56],\n",
    "               [10.76]])\n",
    "\n",
    "Ex= X1-X0\n",
    "Ex"
   ]
  },
  {
   "cell_type": "raw",
   "id": "6b50d639-445e-4277-8bf3-e49caac490cf",
   "metadata": {},
   "source": [
    "Ahora seria hallar el error relativo "
   ]
  },
  {
   "cell_type": "code",
   "execution_count": 20,
   "id": "b17c62b7-5519-461d-97d3-cd8cffbdbc82",
   "metadata": {},
   "outputs": [
    {
     "data": {
      "text/plain": [
       "0.5389999999999999"
      ]
     },
     "execution_count": 20,
     "metadata": {},
     "output_type": "execute_result"
    }
   ],
   "source": [
    "norma_Ex = np.linalg.norm(Ex, ord=np.inf)\n",
    "norma_X0 = np.linalg.norm(X0, ord=np.inf)\n",
    "\n",
    "ErrorRelativox = norma_Ex/norma_X0\n",
    "ErrorRelativox"
   ]
  },
  {
   "cell_type": "code",
   "execution_count": 21,
   "id": "9a67c88d-3645-4124-b437-a746411abd29",
   "metadata": {},
   "outputs": [
    {
     "name": "stdout",
     "output_type": "stream",
     "text": [
      "Cota superior \n"
     ]
    },
    {
     "data": {
      "text/plain": [
       "412.9154615384618"
      ]
     },
     "execution_count": 21,
     "metadata": {},
     "output_type": "execute_result"
    }
   ],
   "source": [
    "cotax = condicion * ErrorRelativox\n",
    "print(\"Cota superior \")\n",
    "cotax"
   ]
  }
 ],
 "metadata": {
  "kernelspec": {
   "display_name": "Python 3 (ipykernel)",
   "language": "python",
   "name": "python3"
  },
  "language_info": {
   "codemirror_mode": {
    "name": "ipython",
    "version": 3
   },
   "file_extension": ".py",
   "mimetype": "text/x-python",
   "name": "python",
   "nbconvert_exporter": "python",
   "pygments_lexer": "ipython3",
   "version": "3.11.5"
  }
 },
 "nbformat": 4,
 "nbformat_minor": 5
}
